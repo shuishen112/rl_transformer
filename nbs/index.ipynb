{
 "cells": [
  {
   "cell_type": "markdown",
   "metadata": {},
   "source": [
    "# Welcome to Transformer Reinforcement Learning (trl)\n",
    "\n",
    "> Train transformer language models with reinforcement learning."
   ]
  },
  {
   "cell_type": "markdown",
   "metadata": {},
   "source": [
    "## What is it?\n",
    "With `trl` you can train transformer language models with Proximal Policy Optimization (PPO). The library is built with the `transformer` library by  🤗 Hugging Face ([link](https://github.com/huggingface/transformers)). Therefore, pre-trained language models can be directly loaded via the transformer interface. At this point only GTP2 is implemented.\n",
    "\n",
    "**Highlights:**\n",
    "- GPT2 model with a value head: A transformer model with an additional scalar output for each token which can be used as a value function in reinforcement learning.\n",
    "- PPOTrainer: A PPO trainer for language models that just needs (query, response, reward) triplets to optimise the language model.\n",
    "- Example: Train GPT2 to generate positive movie reviews with a BERT sentiment classifier."
   ]
  },
  {
   "cell_type": "markdown",
   "metadata": {},
   "source": [
    "## How it works\n",
    "Fine-tuning a language model via PPO consists of roughly three steps:\n",
    "\n",
    "1. **Rollout**: The language model generates a response or continuation based on query which could be the start of a sentence.\n",
    "2. **Evaluation**: The query and response are evaluated with a function, model, human feedback or some combination of them. The important thing is that this process should yield a scalar value for each query/response pair.\n",
    "3. **Optimization**: This is the most complex part. In the optimisation step the query/response pairs are used to calculate the log-probabilities of the tokens in the sequences. This is done with the model that is trained and and a reference model, which is usually the pre-trained model before fine-tuning. The KL-divergence between the two outputs is used as an additional reward signal to make sure the generated responses don't deviate to far from the reference language model. The active language model is then trained with PPO.\n",
    "\n",
    "This process is illustrated in the sketch below:\n",
    "\n",
    "\n",
    "<div style=\"text-align: center\">\n",
    "<img src='images/trl_overview.png' width='800'>\n",
    "<p style=\"text-align: center;\"> <b>Figure:</b> Sketch of the workflow. </p>\n",
    "</div>"
   ]
  },
  {
   "cell_type": "markdown",
   "metadata": {},
   "source": [
    "## Installation"
   ]
  },
  {
   "cell_type": "markdown",
   "metadata": {},
   "source": [
    "### Python package\n",
    "Install the library with pip:\n",
    "\n",
    "`pip install trl`\n",
    "\n",
    "### Repository\n",
    "If you want to run the examples in the repository a few additional libraries are required. Clone the repository and install it with pip:\n",
    "\n",
    "`git clone https://github.com/lvwerra/trl.git`\n",
    "\n",
    "`cd tlr/`\n",
    "\n",
    "`pip install -r requirements.txt`\n",
    "\n",
    "### Jupyter notebooks\n",
    "\n",
    "If you run Jupyter notebooks you might need to run the following:\n",
    "\n",
    "`jupyter nbextension enable --py --sys-prefix widgetsnbextension`\n",
    "\n",
    "For Jupyterlab additionally this command:\n",
    "\n",
    "`jupyter labextension install @jupyter-widgets/jupyterlab-manager`"
   ]
  },
  {
   "cell_type": "markdown",
   "metadata": {},
   "source": [
    "## How to use"
   ]
  },
  {
   "cell_type": "markdown",
   "metadata": {},
   "source": [
    "### Example\n",
    "This is a basic example on how to use the library. Based on a query the language model creates a response which is then evaluated. The evaluation could be a human in the loop or another model's output."
   ]
  },
  {
   "cell_type": "code",
   "execution_count": null,
   "metadata": {},
   "outputs": [],
   "source": [
    "# imports\n",
    "import torch\n",
    "from transformers import GPT2Tokenizer\n",
    "from trl.gpt2 import GPT2HeadWithValueModel, respond_to_batch\n",
    "from trl.ppo import PPOTrainer\n",
    "\n",
    "# get models\n",
    "gpt2_model = GPT2HeadWithValueModel.from_pretrained('gpt2')\n",
    "gpt2_model_ref = GPT2HeadWithValueModel.from_pretrained('gpt2')\n",
    "gpt2_tokenizer = GPT2Tokenizer.from_pretrained('gpt2')\n",
    "\n",
    "# initialize trainer\n",
    "ppo_config = {'batch_size': 1, 'forward_batch_size': 1}\n",
    "ppo_trainer = PPOTrainer(gpt2_model, gpt2_model_ref, **ppo_config)\n",
    "\n",
    "# encode a query\n",
    "query_txt = \"This morning I went to the \"\n",
    "query_tensor = gpt2_tokenizer.encode(query_txt, return_tensors=\"pt\")\n",
    "\n",
    "# get model response\n",
    "response_tensor  = respond_to_batch(gpt2_model, query_tensor)\n",
    "response_txt = gpt2_tokenizer.decode(response_tensor[0,:])\n",
    "\n",
    "# define a reward for response\n",
    "# (this could be any reward such as human feedback or output from another model)\n",
    "reward = torch.tensor([1.0]) \n",
    "\n",
    "# train model with ppo\n",
    "train_stats = ppo_trainer.step(query_tensor, response_tensor, reward)"
   ]
  },
  {
   "cell_type": "markdown",
   "metadata": {},
   "source": [
    "### Advanced example: IMDB sentiment\n",
    "For a detailed example check out the notebook *Tune GPT2 to generate positive reviews*, where GPT2 is fine-tuned to generate positive movie reviews. An few examples from the language models before and after optimisation are given below:\n",
    "\n",
    "<div style=\"text-align: center\">\n",
    "<img src='images/table_imdb_preview.png' width='800'>\n",
    "<p style=\"text-align: center;\"> <b>Figure:</b> A few review continuations before and after optimisation. </p>\n",
    "</div>\n"
   ]
  },
  {
   "cell_type": "markdown",
   "metadata": {},
   "source": [
    "## Notebooks\n",
    "This library is built with `nbdev` and as such all the library code as well as examples are in Jupyter notebooks. The following list gives an overview:\n",
    "\n",
    "- `index.ipynb`: Generates the README and the overview page.\n",
    "- `00-core.ipynb`: Contains the utility functions used throughout the library and examples.\n",
    "- `01-gpt2-with-value-head.ipynb`: Implementation of a `transformer` compatible GPT2 model with an additional value head as well as a function to generate sequences.\n",
    "- `02-ppo.ipynb`: Implementation of the PPOTrainer used to train language models.\n",
    "- `03-bert-imdb-training.ipynb`: Training of BERT with `simpletransformers` to classify sentiment on the IMDB dataset.\n",
    "- `04-gpt2-sentiment-ppo-training.ipynb`: Fine-tune GPT2 with the BERT sentiment classifier to produce positive movie reviews.\n",
    "- `05-gpt2-sentiment-control.ipynb`: Fine-tune GPT2 with the BERT sentiment classifier to produce movie reviews with controlled sentiment."
   ]
  },
  {
   "cell_type": "markdown",
   "metadata": {},
   "source": [
    "## References\n",
    "\n",
    "### Proximal Policy Optimisation\n",
    "The PPO implementation largely follows the structure introduced in the paper **\"Fine-Tuning Language Models from Human Preferences\"** by D. Ziegler et al. \\[[paper](https://arxiv.org/pdf/1909.08593.pdf), [code](https://github.com/openai/lm-human-preferences)].\n",
    "\n",
    "### Language models\n",
    "The language models utilize the `transformer` library by 🤗Hugging Face."
   ]
  },
  {
   "cell_type": "code",
   "execution_count": null,
   "metadata": {},
   "outputs": [],
   "source": []
  }
 ],
 "metadata": {
  "kernelspec": {
   "display_name": "Python 3",
   "language": "python",
   "name": "python3"
  }
 },
 "nbformat": 4,
 "nbformat_minor": 4
}
